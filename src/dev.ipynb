{
 "cells": [
  {
   "cell_type": "code",
   "execution_count": 1,
   "id": "a0a24214",
   "metadata": {},
   "outputs": [],
   "source": [
    "import pandas as pd\n",
    "import requests\n",
    "import yaml"
   ]
  },
  {
   "cell_type": "code",
   "execution_count": 2,
   "id": "7318686c",
   "metadata": {},
   "outputs": [
    {
     "data": {
      "text/plain": [
       "'wl7oucnc8wvt5f31z1a3mps31c0gkbwp8v7nh0jbgkcf2u58fg79b5boqx4ftdz6bw0p7s'"
      ]
     },
     "execution_count": 2,
     "metadata": {},
     "output_type": "execute_result"
    }
   ],
   "source": [
    "config = yaml.safe_load(open(\"../config/config.yaml\"))\n",
    "api_key = config[\"api_key\"]\n",
    "api_key"
   ]
  },
  {
   "cell_type": "code",
   "execution_count": 3,
   "id": "3144dcb7",
   "metadata": {},
   "outputs": [],
   "source": [
    "url = \"kingdommin.org\""
   ]
  },
  {
   "cell_type": "code",
   "execution_count": 4,
   "id": "d9141a18",
   "metadata": {},
   "outputs": [],
   "source": [
    "base_url = \"https://whatcms.org/API/Tech\"\n",
    "params = {\n",
    "    \"key\": api_key,\n",
    "    \"url\": url,\n",
    "}"
   ]
  },
  {
   "cell_type": "code",
   "execution_count": 5,
   "id": "5ee430a2",
   "metadata": {},
   "outputs": [],
   "source": [
    "session = requests.Session()\n",
    "response = session.get(base_url, params=params, timeout=30)"
   ]
  },
  {
   "cell_type": "code",
   "execution_count": 6,
   "id": "2232ecb1",
   "metadata": {},
   "outputs": [
    {
     "data": {
      "text/plain": [
       "[{'name': 'WordPress',\n",
       "  'id': 1,\n",
       "  'version': '',\n",
       "  'categories': ['Blog', 'CMS'],\n",
       "  'url': '//whatcms.org/c/WordPress'},\n",
       " {'name': 'WooCommerce',\n",
       "  'id': '1997',\n",
       "  'version': '4.8.0',\n",
       "  'categories': ['E-commerce', 'CMS'],\n",
       "  'url': '//whatcms.org/c/WooCommerce'},\n",
       " {'name': 'PHP',\n",
       "  'id': 1656,\n",
       "  'version': '7.3.27',\n",
       "  'categories': ['Programming Language'],\n",
       "  'url': '//whatcms.org/c/PHP'},\n",
       " {'name': 'MySQL',\n",
       "  'id': 1595,\n",
       "  'version': '',\n",
       "  'categories': ['Database'],\n",
       "  'url': '//whatcms.org/c/MySQL'},\n",
       " {'name': 'Google Hosted Libraries',\n",
       "  'id': 3607,\n",
       "  'version': '',\n",
       "  'categories': ['CDN'],\n",
       "  'url': '//whatcms.org/c/Google-Hosted-Libraries'},\n",
       " {'name': 'Nginx',\n",
       "  'id': 1611,\n",
       "  'version': '',\n",
       "  'categories': ['Web Server'],\n",
       "  'url': '//whatcms.org/c/Nginx'}]"
      ]
     },
     "execution_count": 6,
     "metadata": {},
     "output_type": "execute_result"
    }
   ],
   "source": [
    "data = response.json()\n",
    "categories = data.get(\"results\", None)\n",
    "categories"
   ]
  },
  {
   "cell_type": "code",
   "execution_count": 35,
   "id": "5151ce2a",
   "metadata": {},
   "outputs": [
    {
     "name": "stdout",
     "output_type": "stream",
     "text": [
      "tech_category: blog_cms: WordPress\n",
      "tech_category: ecommerce_cms: WooCommerce 4.8.0\n",
      "tech_category: programming language: PHP 7.3.27\n",
      "tech_category: database: MySQL\n",
      "tech_category: cdn: Google Hosted Libraries\n",
      "tech_category: web server: Nginx\n"
     ]
    }
   ],
   "source": [
    "for category in categories:\n",
    "    name = category.get(\"name\", None)\n",
    "    version = category.get(\"version\", None)\n",
    "    technologies = category.get(\"categories\", [])\n",
    "\n",
    "    tech_category = \"_\".join(technologies).lower().replace(\"-\", \"\")\n",
    "    tech_string = f\"{name}{\" \" + version if version else \"\"}\"\n",
    "\n",
    "    # Map to response object fields\n",
    "    print(f\"tech_category: {tech_category}: {tech_string}\")"
   ]
  },
  {
   "cell_type": "code",
   "execution_count": null,
   "id": "c9e7a731",
   "metadata": {},
   "outputs": [],
   "source": [
    "class WhatCMSResponse:\n",
    "    \"\"\"Data class to store WhatCMS API response.\"\"\"\n",
    "\n",
    "    url: str\n",
    "    whatcms_link: str = \"\"\n",
    "    blog_cms: str = \"\"\n",
    "    ecommerce_cms: str = \"\"\n",
    "    programming_language: str = \"\"\n",
    "    database: str = \"\"\n",
    "    cdn: str = \"\"\n",
    "    web_server: str = \"\"\n",
    "    landing_page_builder_cms: str = \"\"\n",
    "    operating_system: str = \"\"\n",
    "    web_framework: str = \"\"\n",
    "    whatcms_response: str = \"\""
   ]
  },
  {
   "cell_type": "code",
   "execution_count": null,
   "id": "cc197b66",
   "metadata": {},
   "outputs": [],
   "source": []
  },
  {
   "cell_type": "code",
   "execution_count": null,
   "id": "0eadfb5d",
   "metadata": {},
   "outputs": [],
   "source": []
  },
  {
   "cell_type": "code",
   "execution_count": null,
   "id": "a2981609",
   "metadata": {},
   "outputs": [],
   "source": []
  },
  {
   "cell_type": "code",
   "execution_count": null,
   "id": "28e15076",
   "metadata": {},
   "outputs": [],
   "source": []
  },
  {
   "cell_type": "code",
   "execution_count": null,
   "id": "d9f5a491",
   "metadata": {},
   "outputs": [],
   "source": []
  },
  {
   "cell_type": "code",
   "execution_count": null,
   "id": "dc3072c4",
   "metadata": {},
   "outputs": [],
   "source": []
  },
  {
   "cell_type": "code",
   "execution_count": null,
   "id": "dfeb6983",
   "metadata": {},
   "outputs": [],
   "source": []
  },
  {
   "cell_type": "code",
   "execution_count": null,
   "id": "92d36782",
   "metadata": {},
   "outputs": [],
   "source": []
  },
  {
   "cell_type": "code",
   "execution_count": null,
   "id": "da604348",
   "metadata": {},
   "outputs": [],
   "source": []
  },
  {
   "cell_type": "code",
   "execution_count": null,
   "id": "c1240625",
   "metadata": {},
   "outputs": [],
   "source": []
  },
  {
   "cell_type": "code",
   "execution_count": null,
   "id": "9f8ceced",
   "metadata": {},
   "outputs": [],
   "source": []
  }
 ],
 "metadata": {
  "kernelspec": {
   "display_name": ".venv",
   "language": "python",
   "name": "python3"
  },
  "language_info": {
   "codemirror_mode": {
    "name": "ipython",
    "version": 3
   },
   "file_extension": ".py",
   "mimetype": "text/x-python",
   "name": "python",
   "nbconvert_exporter": "python",
   "pygments_lexer": "ipython3",
   "version": "3.12.1"
  }
 },
 "nbformat": 4,
 "nbformat_minor": 5
}
